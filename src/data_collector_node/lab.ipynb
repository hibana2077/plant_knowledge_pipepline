{
 "cells": [
  {
   "cell_type": "code",
   "execution_count": 1,
   "metadata": {},
   "outputs": [],
   "source": [
    "import redis\n",
    "import os\n",
    "redis_host = os.getenv(\"REDIS_HOST\", \"210.240.160.212\")\n",
    "redis_port = os.getenv(\"REDIS_PORT\", 6379)\n",
    "client = redis.StrictRedis(host=redis_host, port=redis_port, db=0)"
   ]
  },
  {
   "cell_type": "code",
   "execution_count": 2,
   "metadata": {},
   "outputs": [
    {
     "data": {
      "text/plain": [
       "Redis<ConnectionPool<Connection<host=210.240.160.212,port=6379,db=0>>>"
      ]
     },
     "execution_count": 2,
     "metadata": {},
     "output_type": "execute_result"
    }
   ],
   "source": [
    "client"
   ]
  },
  {
   "cell_type": "code",
   "execution_count": 3,
   "metadata": {},
   "outputs": [
    {
     "data": {
      "text/plain": [
       "True"
      ]
     },
     "execution_count": 3,
     "metadata": {},
     "output_type": "execute_result"
    }
   ],
   "source": [
    "\n",
    "# Set a key\n",
    "client.set('foo', 'bar')"
   ]
  },
  {
   "cell_type": "code",
   "execution_count": 4,
   "metadata": {},
   "outputs": [
    {
     "data": {
      "text/plain": [
       "'bar'"
      ]
     },
     "execution_count": 4,
     "metadata": {},
     "output_type": "execute_result"
    }
   ],
   "source": [
    "client.get('foo').decode('utf-8')"
   ]
  },
  {
   "cell_type": "code",
   "execution_count": 7,
   "metadata": {},
   "outputs": [
    {
     "data": {
      "text/plain": [
       "3"
      ]
     },
     "execution_count": 7,
     "metadata": {},
     "output_type": "execute_result"
    }
   ],
   "source": [
    "# list\n",
    "client.rpush('list', 'a')\n",
    "client.rpush('list', 'b')\n",
    "client.rpush('list', 'c')"
   ]
  },
  {
   "cell_type": "code",
   "execution_count": 8,
   "metadata": {},
   "outputs": [
    {
     "data": {
      "text/plain": [
       "1"
      ]
     },
     "execution_count": 8,
     "metadata": {},
     "output_type": "execute_result"
    }
   ],
   "source": [
    "# dict\n",
    "client.hset('dict', 'key1', 'value1')\n"
   ]
  },
  {
   "cell_type": "code",
   "execution_count": 11,
   "metadata": {},
   "outputs": [
    {
     "data": {
      "text/plain": [
       "1"
      ]
     },
     "execution_count": 11,
     "metadata": {},
     "output_type": "execute_result"
    }
   ],
   "source": [
    "client.hset('multi_dict', 'key1', 'value1')\n",
    "client.hset('multi_dict', 'key2', 'value2')"
   ]
  },
  {
   "cell_type": "code",
   "execution_count": null,
   "metadata": {},
   "outputs": [],
   "source": [
    "client.hset('user1', 'name', 'John')\n",
    "client.hset('user1', 'age', 30)\n",
    "client.hset('user1', 'address', '123 Main St')"
   ]
  },
  {
   "cell_type": "code",
   "execution_count": 3,
   "metadata": {},
   "outputs": [
    {
     "data": {
      "text/plain": [
       "2"
      ]
     },
     "execution_count": 3,
     "metadata": {},
     "output_type": "execute_result"
    }
   ],
   "source": [
    "import json\n",
    "# Convert the dictionary to a string\n",
    "user1 = json.dumps({'name': 'John', 'age': 30, 'address': '123 Main St'})\n",
    "user2 = json.dumps({'name': 'Jane', 'age': 25, 'address': '456 Elm St'})\n",
    "\n",
    "# Push the string to the Redis list\n",
    "client.rpush('user_list', user1)\n",
    "client.rpush('user_list', user2)\n"
   ]
  },
  {
   "cell_type": "code",
   "execution_count": 4,
   "metadata": {},
   "outputs": [
    {
     "name": "stdout",
     "output_type": "stream",
     "text": [
      "{'name': 'John', 'age': 30, 'address': '123 Main St'}\n",
      "{'name': 'Jane', 'age': 25, 'address': '456 Elm St'}\n"
     ]
    }
   ],
   "source": [
    "out = client.lrange('user_list', 0, -1)\n",
    "for u in out:\n",
    "    print(json.loads(u.decode('utf-8')))"
   ]
  },
  {
   "cell_type": "code",
   "execution_count": 6,
   "metadata": {},
   "outputs": [
    {
     "data": {
      "text/plain": [
       "('{\"name\": \"John\", \"age\": 30, \"address\": \"123 Main St\"}',\n",
       " str,\n",
       " {'name': 'John', 'age': 30, 'address': '123 Main St'})"
      ]
     },
     "execution_count": 6,
     "metadata": {},
     "output_type": "execute_result"
    }
   ],
   "source": [
    "out = client.lpop('user_list').decode('utf-8')\n",
    "out , type(out), json.loads(out)"
   ]
  },
  {
   "cell_type": "code",
   "execution_count": 7,
   "metadata": {},
   "outputs": [
    {
     "data": {
      "text/plain": [
       "((b'user_list', b'{\"name\": \"Jane\", \"age\": 25, \"address\": \"456 Elm St\"}'),\n",
       " tuple,\n",
       " {'name': 'Jane', 'age': 25, 'address': '456 Elm St'})"
      ]
     },
     "execution_count": 7,
     "metadata": {},
     "output_type": "execute_result"
    }
   ],
   "source": [
    "out = client.blpop('user_list', 2)\n",
    "out , type(out), json.loads(out[1].decode('utf-8'))"
   ]
  },
  {
   "cell_type": "code",
   "execution_count": 8,
   "metadata": {},
   "outputs": [
    {
     "data": {
      "text/plain": [
       "True"
      ]
     },
     "execution_count": 8,
     "metadata": {},
     "output_type": "execute_result"
    }
   ],
   "source": [
    "out = client.blpop('user_list', 2)\n",
    "out == None"
   ]
  },
  {
   "cell_type": "code",
   "execution_count": 6,
   "metadata": {},
   "outputs": [
    {
     "data": {
      "text/plain": [
       "'{\"name\": \"Jane\", \"age\": 25, \"address\": \"456 Elm St\"}'"
      ]
     },
     "execution_count": 6,
     "metadata": {},
     "output_type": "execute_result"
    }
   ],
   "source": [
    "client.rpop('user_list').decode('utf-8')"
   ]
  },
  {
   "cell_type": "code",
   "execution_count": 7,
   "metadata": {},
   "outputs": [
    {
     "data": {
      "text/plain": [
       "5"
      ]
     },
     "execution_count": 7,
     "metadata": {},
     "output_type": "execute_result"
    }
   ],
   "source": [
    "from datetime import timedelta,datetime\n",
    "\n",
    "A_time = datetime.now()\n",
    "B_time = datetime.now() - timedelta(minutes=5)\n",
    "out = A_time - B_time\n",
    "\n",
    "int(out.total_seconds()/60)"
   ]
  },
  {
   "cell_type": "code",
   "execution_count": 1,
   "metadata": {},
   "outputs": [
    {
     "data": {
      "text/plain": [
       "30"
      ]
     },
     "execution_count": 1,
     "metadata": {},
     "output_type": "execute_result"
    }
   ],
   "source": [
    "from langchain_community.document_loaders import RecursiveUrlLoader\n",
    "from pprint import pprint\n",
    "from warnings import filterwarnings\n",
    "filterwarnings(\"ignore\")\n",
    "\n",
    "url = \"https://iastate.pressbooks.pub/quantitativegenetics/\"\n",
    "loader = RecursiveUrlLoader(url=url)\n",
    "docs = loader.load()\n",
    "len(docs)"
   ]
  },
  {
   "cell_type": "code",
   "execution_count": 2,
   "metadata": {},
   "outputs": [
    {
     "name": "stdout",
     "output_type": "stream",
     "text": [
      "<class 'list'>\n"
     ]
    }
   ],
   "source": [
    "print(type(docs))"
   ]
  },
  {
   "cell_type": "code",
   "execution_count": 13,
   "metadata": {},
   "outputs": [
    {
     "name": "stdout",
     "output_type": "stream",
     "text": [
      "{'source': 'https://iastate.pressbooks.pub/quantitativegenetics/chapter/estimates-of-variance/', 'title': 'Chapter 7: Estimates of Variance – Quantitative Genetics for Plant Breeding', 'language': 'en-US'}\n",
      "{'source': 'https://iastate.pressbooks.pub/quantitativegenetics/chapter/measures-of-similarity/', 'title': 'Chapter 4: Measures of Similarity – Quantitative Genetics for Plant Breeding', 'language': 'en-US'}\n",
      "{'source': 'https://iastate.pressbooks.pub/quantitativegenetics/chapter/resemblance-between-relatives/', 'title': 'Chapter 3: Resemblance Between Relatives – Quantitative Genetics for Plant Breeding', 'language': 'en-US'}\n",
      "{'source': 'https://iastate.pressbooks.pub/quantitativegenetics/chapter/simulation-modeling/', 'title': 'Chapter 13: Simulation Modeling – Quantitative Genetics for Plant Breeding', 'language': 'en-US'}\n",
      "{'source': 'https://iastate.pressbooks.pub/quantitativegenetics/chapter/gene-frequencies/', 'title': 'Chapter 1: Gene Frequencies – Quantitative Genetics for Plant Breeding', 'language': 'en-US'}\n",
      "{'source': 'https://iastate.pressbooks.pub/quantitativegenetics/chapter/linkage-2/', 'title': 'Chapter 2: Linkage – Quantitative Genetics for Plant Breeding', 'language': 'en-US'}\n",
      "{'source': 'https://iastate.pressbooks.pub/quantitativegenetics/chapter/components-of-variance/', 'title': 'Chapter 6: Components of Variance – Quantitative Genetics for Plant Breeding', 'language': 'en-US'}\n",
      "{'source': 'https://iastate.pressbooks.pub/quantitativegenetics/chapter/mating-designs/', 'title': 'Chapter 8: Mating Designs – Quantitative Genetics for Plant Breeding', 'language': 'en-US'}\n",
      "{'source': 'https://iastate.pressbooks.pub/quantitativegenetics/chapter/g-x-e/', 'title': 'Chapter 10: G x E – Quantitative Genetics for Plant Breeding', 'language': 'en-US'}\n",
      "{'source': 'https://iastate.pressbooks.pub/quantitativegenetics/chapter/gene-effects/', 'title': 'Chapter 5: Gene Effects – Quantitative Genetics for Plant Breeding', 'language': 'en-US'}\n",
      "{'source': 'https://iastate.pressbooks.pub/quantitativegenetics/chapter/multi-environment-trials-linear-mixed-models/', 'title': 'Chapter 12: Multi Environment Trials: Linear Mixed Models – Quantitative Genetics for Plant Breeding', 'language': 'en-US'}\n",
      "{'source': 'https://iastate.pressbooks.pub/quantitativegenetics/chapter/selection-response/', 'title': 'Chapter 9: Selection Response – Quantitative Genetics for Plant Breeding', 'language': 'en-US'}\n",
      "{'source': 'https://iastate.pressbooks.pub/quantitativegenetics/chapter/multiple-trait-selection/', 'title': 'Chapter 11: Multiple Trait Selection – Quantitative Genetics for Plant Breeding', 'language': 'en-US'}\n"
     ]
    }
   ],
   "source": [
    "for it in docs:\n",
    "    print(it.metadata) if it.metadata['source'].startswith('https://iastate.pressbooks.pub/quantitativegenetics/chapter/') else None"
   ]
  }
 ],
 "metadata": {
  "kernelspec": {
   "display_name": "Python 3",
   "language": "python",
   "name": "python3"
  },
  "language_info": {
   "codemirror_mode": {
    "name": "ipython",
    "version": 3
   },
   "file_extension": ".py",
   "mimetype": "text/x-python",
   "name": "python",
   "nbconvert_exporter": "python",
   "pygments_lexer": "ipython3",
   "version": "3.11.6"
  }
 },
 "nbformat": 4,
 "nbformat_minor": 2
}
