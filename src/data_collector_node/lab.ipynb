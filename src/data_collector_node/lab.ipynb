{
 "cells": [
  {
   "cell_type": "code",
   "execution_count": 1,
   "metadata": {},
   "outputs": [],
   "source": [
    "import redis\n",
    "import os\n",
    "redis_host = os.getenv(\"REDIS_HOST\", \"210.240.160.212\")\n",
    "redis_port = os.getenv(\"REDIS_PORT\", 6379)\n",
    "client = redis.StrictRedis(host=redis_host, port=redis_port, db=0)"
   ]
  },
  {
   "cell_type": "code",
   "execution_count": 2,
   "metadata": {},
   "outputs": [
    {
     "data": {
      "text/plain": [
       "Redis<ConnectionPool<Connection<host=210.240.160.212,port=6379,db=0>>>"
      ]
     },
     "execution_count": 2,
     "metadata": {},
     "output_type": "execute_result"
    }
   ],
   "source": [
    "client"
   ]
  },
  {
   "cell_type": "code",
   "execution_count": 3,
   "metadata": {},
   "outputs": [
    {
     "data": {
      "text/plain": [
       "True"
      ]
     },
     "execution_count": 3,
     "metadata": {},
     "output_type": "execute_result"
    }
   ],
   "source": [
    "\n",
    "# Set a key\n",
    "client.set('foo', 'bar')"
   ]
  },
  {
   "cell_type": "code",
   "execution_count": 4,
   "metadata": {},
   "outputs": [
    {
     "data": {
      "text/plain": [
       "'bar'"
      ]
     },
     "execution_count": 4,
     "metadata": {},
     "output_type": "execute_result"
    }
   ],
   "source": [
    "client.get('foo').decode('utf-8')"
   ]
  },
  {
   "cell_type": "code",
   "execution_count": 7,
   "metadata": {},
   "outputs": [
    {
     "data": {
      "text/plain": [
       "3"
      ]
     },
     "execution_count": 7,
     "metadata": {},
     "output_type": "execute_result"
    }
   ],
   "source": [
    "# list\n",
    "client.rpush('list', 'a')\n",
    "client.rpush('list', 'b')\n",
    "client.rpush('list', 'c')"
   ]
  },
  {
   "cell_type": "code",
   "execution_count": 8,
   "metadata": {},
   "outputs": [
    {
     "data": {
      "text/plain": [
       "1"
      ]
     },
     "execution_count": 8,
     "metadata": {},
     "output_type": "execute_result"
    }
   ],
   "source": [
    "# dict\n",
    "client.hset('dict', 'key1', 'value1')\n"
   ]
  },
  {
   "cell_type": "code",
   "execution_count": 11,
   "metadata": {},
   "outputs": [
    {
     "data": {
      "text/plain": [
       "1"
      ]
     },
     "execution_count": 11,
     "metadata": {},
     "output_type": "execute_result"
    }
   ],
   "source": [
    "client.hset('multi_dict', 'key1', 'value1')\n",
    "client.hset('multi_dict', 'key2', 'value2')"
   ]
  },
  {
   "cell_type": "code",
   "execution_count": null,
   "metadata": {},
   "outputs": [],
   "source": [
    "client.hset('user1', 'name', 'John')\n",
    "client.hset('user1', 'age', 30)\n",
    "client.hset('user1', 'address', '123 Main St')"
   ]
  },
  {
   "cell_type": "code",
   "execution_count": 3,
   "metadata": {},
   "outputs": [
    {
     "data": {
      "text/plain": [
       "2"
      ]
     },
     "execution_count": 3,
     "metadata": {},
     "output_type": "execute_result"
    }
   ],
   "source": [
    "import json\n",
    "# Convert the dictionary to a string\n",
    "user1 = json.dumps({'name': 'John', 'age': 30, 'address': '123 Main St'})\n",
    "user2 = json.dumps({'name': 'Jane', 'age': 25, 'address': '456 Elm St'})\n",
    "\n",
    "# Push the string to the Redis list\n",
    "client.rpush('user_list', user1)\n",
    "client.rpush('user_list', user2)\n"
   ]
  },
  {
   "cell_type": "code",
   "execution_count": 4,
   "metadata": {},
   "outputs": [
    {
     "name": "stdout",
     "output_type": "stream",
     "text": [
      "{'name': 'John', 'age': 30, 'address': '123 Main St'}\n",
      "{'name': 'Jane', 'age': 25, 'address': '456 Elm St'}\n"
     ]
    }
   ],
   "source": [
    "out = client.lrange('user_list', 0, -1)\n",
    "for u in out:\n",
    "    print(json.loads(u.decode('utf-8')))"
   ]
  },
  {
   "cell_type": "code",
   "execution_count": 6,
   "metadata": {},
   "outputs": [
    {
     "data": {
      "text/plain": [
       "('{\"name\": \"John\", \"age\": 30, \"address\": \"123 Main St\"}',\n",
       " str,\n",
       " {'name': 'John', 'age': 30, 'address': '123 Main St'})"
      ]
     },
     "execution_count": 6,
     "metadata": {},
     "output_type": "execute_result"
    }
   ],
   "source": [
    "out = client.lpop('user_list').decode('utf-8')\n",
    "out , type(out), json.loads(out)"
   ]
  },
  {
   "cell_type": "code",
   "execution_count": 7,
   "metadata": {},
   "outputs": [
    {
     "data": {
      "text/plain": [
       "((b'user_list', b'{\"name\": \"Jane\", \"age\": 25, \"address\": \"456 Elm St\"}'),\n",
       " tuple,\n",
       " {'name': 'Jane', 'age': 25, 'address': '456 Elm St'})"
      ]
     },
     "execution_count": 7,
     "metadata": {},
     "output_type": "execute_result"
    }
   ],
   "source": [
    "out = client.blpop('user_list', 2)\n",
    "out , type(out), json.loads(out[1].decode('utf-8'))"
   ]
  },
  {
   "cell_type": "code",
   "execution_count": 8,
   "metadata": {},
   "outputs": [
    {
     "data": {
      "text/plain": [
       "True"
      ]
     },
     "execution_count": 8,
     "metadata": {},
     "output_type": "execute_result"
    }
   ],
   "source": [
    "out = client.blpop('user_list', 2)\n",
    "out == None"
   ]
  },
  {
   "cell_type": "code",
   "execution_count": 6,
   "metadata": {},
   "outputs": [
    {
     "data": {
      "text/plain": [
       "'{\"name\": \"Jane\", \"age\": 25, \"address\": \"456 Elm St\"}'"
      ]
     },
     "execution_count": 6,
     "metadata": {},
     "output_type": "execute_result"
    }
   ],
   "source": [
    "client.rpop('user_list').decode('utf-8')"
   ]
  },
  {
   "cell_type": "code",
   "execution_count": 7,
   "metadata": {},
   "outputs": [
    {
     "data": {
      "text/plain": [
       "5"
      ]
     },
     "execution_count": 7,
     "metadata": {},
     "output_type": "execute_result"
    }
   ],
   "source": [
    "from datetime import timedelta,datetime\n",
    "\n",
    "A_time = datetime.now()\n",
    "B_time = datetime.now() - timedelta(minutes=5)\n",
    "out = A_time - B_time\n",
    "\n",
    "int(out.total_seconds()/60)"
   ]
  },
  {
   "cell_type": "code",
   "execution_count": 1,
   "metadata": {},
   "outputs": [
    {
     "name": "stdout",
     "output_type": "stream",
     "text": [
      "\n",
      " Quantitative Genetics for Plant Breeding – Simple Book Publishing\n",
      "Skip to content\n",
      " \n",
      "Toggle Menu\n",
      "Primary Navigation\n",
      "HomeReadSign in\n",
      "Search in book:\n",
      "Search\n",
      " \n",
      "Book Title: Quantitative Genetics for Plant Breeding\t\t\n",
      "Authors: Walter Suza (Editor); Kendall Lamkey (Editor); William Beavis; Katherine Espinosa; Mark Newell; and Anthony Assibi Mahama\n",
      " \n",
      "Download this book\n",
      "\t\t\t\t\t\t\tEPUB\t\t\t\t\t\t\t\n",
      "\t\t\t\t\t\t\tDigital PDF\t\t\t\t\t\t\t\n",
      "\t\t\t\t\t\t\tPrint PDF\t\t\t\t\t\t\t\n",
      "\t\t\t\t\t\t\tCommon Cartridge (Web Links)\t\t\t\t\t\t\t\n",
      "\t\t\t\t\t\t\tCommon Cartridge (LTI Links)\t\t\t\t\t\t\t\n",
      "Book Description: This open textbook is intended to expose students to the application of quantitative genetic models to plant breeding populations. Specific topics include conducting and interpreting multi-environment trials, resource allocation using engineering principles, genetic modeling of quantitative traits, simulation modeling, variance, covariance and heritability, prediction, selection, and genetic gain.\n",
      "License: \n",
      "Creative Commons Attribution NonCommercial\n",
      "\t\t\t\tRead Book\t\t\t\n",
      " \n",
      "Contents\n",
      "Show All Contents\n",
      "Hide All Contents\n",
      "Book Contents Navigation\n",
      "About the PBEA Series Chapter 1: Gene FrequenciesWilliam Beavis; Kendall Lamkey; and Anthony Assibi MahamaAllelic and Genotypic VariationHardy-Weinberg EquilibriumFactors Affecting Allele FrequencySelectionReferencesChapter 2: LinkageWilliam Beavis and Anthony Assibi MahamaDisequilibriumDissipation of DisequilibriumChi-Square StatisticReferencesChapter 3: Resemblance Between RelativesWilliam Beavis; Kendall Lamkey; and Anthony Assibi MahamaBackgroundCoefficient of InbreedingCoefficient of ParentageSelf PollinationFull-SibingReferencesChapter 4: Measures of SimilarityWilliam Beavis; Mark Newell; and Anthony Assibi MahamaPopulation Structure Based on Pedigree InformationPopulation Structure Based on MarkersMeasures of DistancePrincipal Component AnalysisCluster AnalysisHierarchical ClusteringChapter 5: Gene EffectsWilliam Beavis; Kendall Lamkey; Katherine Espinosa; and Anthony Assibi MahamaLinear Models for Phenotypic ValuesAverage Genetic (Allelic) EffectsBreeding ValueEpistasisSingle Locus GenotypeReferencesChapter 6: Components of VarianceWilliam Beavis; Kendall Lamkey; Katherine Espinosa; and Anthony Assibi MahamaPhenotypic Components of VarianceGenetic Components of VarianceDeriving Variance ComponentsInfluence of EpistasisReferencesChapter 7: Estimates of VarianceWilliam Beavis; Kendall Lamkey; Katherine Espinosa; and Anthony Assibi MahamaCovariance of RelativesF2 and F3 ProgeniesBi-Parental ProgeniesUsing the AlgorithmReferencesChapter 8: Mating DesignsWilliam Beavis; Kendall Lamkey; and Anthony Assibi MahamaDesign SetupDiallel CrossesF-TestsGardner and Eberhart Diallel Analysis IINorth Carolina Design INorth Carolina Design IINorth Carolina Design IIIF-TestsReferencesChapter 9: Selection ResponseWilliam Beavis; Kendall Lamkey; and Anthony Assibi MahamaUnderlying Theory of SelectionHeritability on an Entry-Mean BasisFamily StructureMethod of MomentsReferencesChapter 10: G x EWilliam Beavis; Kendall Lamkey; Katherine Espinosa; and Anthony Assibi MahamaEnvironmental Components of VarianceSimple Types of GxE InteractionsComplex Types of GxE InteractionsPartition of GxE VariancesInteraction ComponentsFlux between Genotypic Variance and GE Interaction VarianceReferencesChapter 11: Multiple Trait SelectionWilliam Beavis; Kendall Lamkey; and Anthony Assibi MahamaIndex SelectionExpected Genetic GainsConstruction of a Selection IndexSelection Index EfficiencyReferencesChapter 12: Multi Environment Trials: Linear Mixed ModelsWilliam Beavis and Anthony Assibi MahamaHenderson’s ConceptBLUEs and BLUPsLinear Mixed Model SolutionReferenceChapter 13: Simulation ModelingWilliam Beavis and Anthony Assibi MahamaHistory of SimulationsGenetic Architecture of the TraitPolygenic Trait SimulationQTL SimulationsReferences Plant Breeding BasicsWilliam Beavis and Anthony Assibi MahamaDefining Plant BreedingA Brief History of Quantitative GeneticsTrait MeasuresTypes of ModelsInstallation of RAnalysis of CovarianceComputational ConsiderationsMatrix AlgebraReferencesApplied Learning ActivitiesChapter 1Chapter 2Chapter 3Chapter 4Chapter 5Chapter 6Chapter 7Chapter 8Chapter 9Chapter 10Chapter 11Chapter 12Chapter 13Plant Breeding BasicsContributorsEditorsChapter AuthorsContributors \n",
      "Book Information\n",
      " \n",
      "Book Description\n",
      "\t\t\t\t\tThis open textbook is intended to expose students to the application of quantitative genetic models to plant breeding populations. Specific topics include conducting and interpreting multi-environment trials, resource allocation using engineering principles, genetic modeling of quantitative traits, simulation modeling, variance, covariance and heritability, prediction, selection, and genetic gain.\t\t\t\t\t\t\n",
      "Authors\n",
      "Walter Suza (Editor); Kendall Lamkey (Editor); William Beavis; Katherine Espinosa; Mark Newell; and Anthony Assibi Mahama\n",
      "License\n",
      "Quantitative Genetics for Plant Breeding Copyright © 2023 by Walter Suza (Editor); Kendall Lamkey (Editor); William Beavis; Katherine Espinosa; Mark Newell; and Anthony Assibi Mahama is licensed under a Creative Commons Attribution-NonCommercial 4.0 International License, except where otherwise noted. \n",
      "Subject\n",
      "Agronomy and crop production\n",
      "Click for more information\n",
      "Metadata\n",
      "Title\n",
      "Quantitative Genetics for Plant Breeding\n",
      "Authors\n",
      "\t\t\t\t\t\t\tWalter Suza (Editor); Kendall Lamkey (Editor); William Beavis; Katherine Espinosa; Mark Newell; and Anthony Assibi Mahama\t\t\t\t\t\t\t\t\n",
      "License\n",
      "Quantitative Genetics for Plant Breeding Copyright © 2023 by Walter Suza (Editor); Kendall Lamkey (Editor); William Beavis; Katherine Espinosa; Mark Newell; and Anthony Assibi Mahama is licensed under a Creative Commons Attribution-NonCommercial 4.0 International License, except where otherwise noted.You are free to copy, share, adapt, remix, transform, and build upon the material, so long as you follow the terms of the license.How to cite this publication:Suza, W., & Lamkey, K. (Eds.). (2023). Quantitative Genetics for Plant Breeding. Iowa State University Digital Press.This is a publication of theIowa State University Digital Press701 Morrill Rd, Ames, IA 50011https://www.iastatedigitalpress.comdigipress@iastate.edu \n",
      "Primary Subject\n",
      "\t\t\t\t\t\t\tAgronomy and crop production\t\t\t\t\t\t\t\t\n",
      "Additional Subject(s)\n",
      "\t\t\t\t\t\t\tGenetics (non-medical)\t\t\t\t\t\t\t\t\n",
      "Publisher\n",
      "\t\t\t\t\t\t\tIowa State University Digital Press\t\t\t\t\t\t\t\t\n",
      "Publication Date\n",
      "\t\t\t\t\t\t\tOctober 18, 2023\t\t\t\t\t\t\t\t\n",
      "Digital Object Identifier (DOI)\n",
      "https://doi.org/10.31274/isdup.2023.146 \n",
      "Click for more information\n",
      "Powered by Pressbooks\n",
      "Guides and Tutorials\n",
      "|Pressbooks Directory\n",
      "|Contact\n",
      "Pressbooks on YouTube\n",
      "Pressbooks on Twitter\n",
      "64\n"
     ]
    }
   ],
   "source": [
    "from langchain_community.document_loaders import WebBaseLoader\n",
    "from pprint import pprint\n",
    "from warnings import filterwarnings\n",
    "filterwarnings(\"ignore\")\n",
    "\n",
    "loader = WebBaseLoader(\"https://iastate.pressbooks.pub/quantitativegenetics/\")\n",
    "loader.requests_kwargs = {\"verify\":False}\n",
    "\n",
    "data = loader.load()\n",
    "\n",
    "cleaned_list = list()\n",
    "for idx in range(1, len(data[0].page_content)):\n",
    "    if data[0].page_content[idx] != '\\n' and data[0].page_content[idx-1] != '\\n':\n",
    "        cleaned_list.append(data[0].page_content[idx])\n",
    "    elif data[0].page_content[idx] != '\\n' and data[0].page_content[idx-1] == '\\n':\n",
    "        cleaned_list.append('\\n')\n",
    "        cleaned_list.append(data[0].page_content[idx])\n",
    "print(''.join(cleaned_list))\n",
    "print(len(''.join(cleaned_list).split('\\n')))"
   ]
  },
  {
   "cell_type": "code",
   "execution_count": 2,
   "metadata": {},
   "outputs": [
    {
     "data": {
      "text/html": [
       "<div>\n",
       "<style scoped>\n",
       "    .dataframe tbody tr th:only-of-type {\n",
       "        vertical-align: middle;\n",
       "    }\n",
       "\n",
       "    .dataframe tbody tr th {\n",
       "        vertical-align: top;\n",
       "    }\n",
       "\n",
       "    .dataframe thead th {\n",
       "        text-align: right;\n",
       "    }\n",
       "</style>\n",
       "<table border=\"1\" class=\"dataframe\">\n",
       "  <thead>\n",
       "    <tr style=\"text-align: right;\">\n",
       "      <th></th>\n",
       "      <th>content</th>\n",
       "    </tr>\n",
       "  </thead>\n",
       "  <tbody>\n",
       "    <tr>\n",
       "      <th>0</th>\n",
       "      <td></td>\n",
       "    </tr>\n",
       "    <tr>\n",
       "      <th>1</th>\n",
       "      <td>Quantitative Genetics for Plant Breeding – Si...</td>\n",
       "    </tr>\n",
       "    <tr>\n",
       "      <th>2</th>\n",
       "      <td>Skip to content</td>\n",
       "    </tr>\n",
       "    <tr>\n",
       "      <th>3</th>\n",
       "      <td></td>\n",
       "    </tr>\n",
       "    <tr>\n",
       "      <th>4</th>\n",
       "      <td>Toggle Menu</td>\n",
       "    </tr>\n",
       "  </tbody>\n",
       "</table>\n",
       "</div>"
      ],
      "text/plain": [
       "                                             content\n",
       "0                                                   \n",
       "1   Quantitative Genetics for Plant Breeding – Si...\n",
       "2                                    Skip to content\n",
       "3                                                   \n",
       "4                                        Toggle Menu"
      ]
     },
     "execution_count": 2,
     "metadata": {},
     "output_type": "execute_result"
    }
   ],
   "source": [
    "import pandas as pd\n",
    "df = pd.DataFrame({'content':''.join(cleaned_list).split('\\n')})\n",
    "df.head()"
   ]
  }
 ],
 "metadata": {
  "kernelspec": {
   "display_name": "Python 3",
   "language": "python",
   "name": "python3"
  },
  "language_info": {
   "codemirror_mode": {
    "name": "ipython",
    "version": 3
   },
   "file_extension": ".py",
   "mimetype": "text/x-python",
   "name": "python",
   "nbconvert_exporter": "python",
   "pygments_lexer": "ipython3",
   "version": "3.11.6"
  }
 },
 "nbformat": 4,
 "nbformat_minor": 2
}
